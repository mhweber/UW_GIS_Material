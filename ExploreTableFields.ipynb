{
 "cells": [
  {
   "cell_type": "markdown",
   "metadata": {},
   "source": [
    "Import the arcgis and pandas libraries"
   ]
  },
  {
   "cell_type": "code",
   "execution_count": 2,
   "metadata": {},
   "outputs": [],
   "source": [
    "import arcgis, pandas"
   ]
  },
  {
   "cell_type": "markdown",
   "metadata": {},
   "source": [
    "Read in the landover feature class in our ArcPro session as a spatially enabled dataframe (an arcgis class that makes our spatial data a 'pandas' data frame with a geometry list column (pandas is one of if not the most used data science libraries in Python)"
   ]
  },
  {
   "cell_type": "code",
   "execution_count": 3,
   "metadata": {},
   "outputs": [],
   "source": [
    "df = pandas.DataFrame.spatial.from_featureclass(\"landcover\")"
   ]
  },
  {
   "cell_type": "markdown",
   "metadata": {},
   "source": [
    "We can simply type the object name to see a snapshot of rows and columns"
   ]
  },
  {
   "cell_type": "code",
   "execution_count": 9,
   "metadata": {},
   "outputs": [
    {
     "data": {
      "text/html": [
       "<div>\n",
       "<style scoped>\n",
       "    .dataframe tbody tr th:only-of-type {\n",
       "        vertical-align: middle;\n",
       "    }\n",
       "\n",
       "    .dataframe tbody tr th {\n",
       "        vertical-align: top;\n",
       "    }\n",
       "\n",
       "    .dataframe thead th {\n",
       "        text-align: right;\n",
       "    }\n",
       "</style>\n",
       "<table border=\"1\" class=\"dataframe\">\n",
       "  <thead>\n",
       "    <tr style=\"text-align: right;\">\n",
       "      <th></th>\n",
       "      <th>OBJECTID</th>\n",
       "      <th>ID</th>\n",
       "      <th>CLASS</th>\n",
       "      <th>ACRES</th>\n",
       "      <th>AREA</th>\n",
       "      <th>PERIMETER</th>\n",
       "      <th>SHAPE</th>\n",
       "    </tr>\n",
       "  </thead>\n",
       "  <tbody>\n",
       "    <tr>\n",
       "      <th>0</th>\n",
       "      <td>1</td>\n",
       "      <td>10270</td>\n",
       "      <td>122</td>\n",
       "      <td>31.062</td>\n",
       "      <td>1353080.178</td>\n",
       "      <td>4652.879</td>\n",
       "      <td>{\"rings\": [[[335160.02273723483, 411988.213580...</td>\n",
       "    </tr>\n",
       "    <tr>\n",
       "      <th>1</th>\n",
       "      <td>2</td>\n",
       "      <td>10271</td>\n",
       "      <td>102</td>\n",
       "      <td>21.267</td>\n",
       "      <td>926396.026</td>\n",
       "      <td>4388.659</td>\n",
       "      <td>{\"rings\": [[[336323.24246103317, 411988.213580...</td>\n",
       "    </tr>\n",
       "    <tr>\n",
       "      <th>2</th>\n",
       "      <td>3</td>\n",
       "      <td>10585</td>\n",
       "      <td>101</td>\n",
       "      <td>612.523</td>\n",
       "      <td>26681509.247</td>\n",
       "      <td>31169.758</td>\n",
       "      <td>{\"rings\": [[[336323.24246103317, 410824.993772...</td>\n",
       "    </tr>\n",
       "    <tr>\n",
       "      <th>3</th>\n",
       "      <td>4</td>\n",
       "      <td>10586</td>\n",
       "      <td>88</td>\n",
       "      <td>31.062</td>\n",
       "      <td>1353080.178</td>\n",
       "      <td>4652.879</td>\n",
       "      <td>{\"rings\": [[[342139.3411639333, 408498.5543251...</td>\n",
       "    </tr>\n",
       "    <tr>\n",
       "      <th>4</th>\n",
       "      <td>5</td>\n",
       "      <td>10587</td>\n",
       "      <td>122</td>\n",
       "      <td>9.739</td>\n",
       "      <td>424244.535</td>\n",
       "      <td>3087.116</td>\n",
       "      <td>{\"rings\": [[[342639.7637258023, 408498.5543251...</td>\n",
       "    </tr>\n",
       "    <tr>\n",
       "      <th>...</th>\n",
       "      <td>...</td>\n",
       "      <td>...</td>\n",
       "      <td>...</td>\n",
       "      <td>...</td>\n",
       "      <td>...</td>\n",
       "      <td>...</td>\n",
       "      <td>...</td>\n",
       "    </tr>\n",
       "    <tr>\n",
       "      <th>1342</th>\n",
       "      <td>1343</td>\n",
       "      <td>23008</td>\n",
       "      <td>101</td>\n",
       "      <td>160.612</td>\n",
       "      <td>6996256.674</td>\n",
       "      <td>14431.025</td>\n",
       "      <td>{\"rings\": [[[388668.1310389787, 250300.6687835...</td>\n",
       "    </tr>\n",
       "    <tr>\n",
       "      <th>1343</th>\n",
       "      <td>1344</td>\n",
       "      <td>23313</td>\n",
       "      <td>149</td>\n",
       "      <td>14.15</td>\n",
       "      <td>616385.065</td>\n",
       "      <td>3577.174</td>\n",
       "      <td>{\"rings\": [[[385178.47178366035, 245647.789804...</td>\n",
       "    </tr>\n",
       "    <tr>\n",
       "      <th>1344</th>\n",
       "      <td>1345</td>\n",
       "      <td>23510</td>\n",
       "      <td>111</td>\n",
       "      <td>532.349</td>\n",
       "      <td>23189107.95</td>\n",
       "      <td>37402.527</td>\n",
       "      <td>{\"rings\": [[[391241.27305749804, 246093.959867...</td>\n",
       "    </tr>\n",
       "    <tr>\n",
       "      <th>1345</th>\n",
       "      <td>1346</td>\n",
       "      <td>24182</td>\n",
       "      <td>101</td>\n",
       "      <td>237.25</td>\n",
       "      <td>10334618.323</td>\n",
       "      <td>21904.084</td>\n",
       "      <td>{\"rings\": [[[390331.19117648154, 245037.863462...</td>\n",
       "    </tr>\n",
       "    <tr>\n",
       "      <th>1346</th>\n",
       "      <td>1347</td>\n",
       "      <td>26771</td>\n",
       "      <td>111</td>\n",
       "      <td>412.663</td>\n",
       "      <td>17975582.183</td>\n",
       "      <td>30846.422</td>\n",
       "      <td>{\"rings\": [[[384458.8681749478, 259606.4268257...</td>\n",
       "    </tr>\n",
       "  </tbody>\n",
       "</table>\n",
       "<p>1347 rows × 7 columns</p>\n",
       "</div>"
      ],
      "text/plain": [
       "      OBJECTID  ...                                              SHAPE\n",
       "0            1  ...  {\"rings\": [[[335160.02273723483, 411988.213580...\n",
       "1            2  ...  {\"rings\": [[[336323.24246103317, 411988.213580...\n",
       "2            3  ...  {\"rings\": [[[336323.24246103317, 410824.993772...\n",
       "3            4  ...  {\"rings\": [[[342139.3411639333, 408498.5543251...\n",
       "4            5  ...  {\"rings\": [[[342639.7637258023, 408498.5543251...\n",
       "...        ...  ...                                                ...\n",
       "1342      1343  ...  {\"rings\": [[[388668.1310389787, 250300.6687835...\n",
       "1343      1344  ...  {\"rings\": [[[385178.47178366035, 245647.789804...\n",
       "1344      1345  ...  {\"rings\": [[[391241.27305749804, 246093.959867...\n",
       "1345      1346  ...  {\"rings\": [[[390331.19117648154, 245037.863462...\n",
       "1346      1347  ...  {\"rings\": [[[384458.8681749478, 259606.4268257...\n",
       "\n",
       "[1347 rows x 7 columns]"
      ]
     },
     "execution_count": 9,
     "metadata": {},
     "output_type": "execute_result"
    }
   ],
   "source": [
    "df"
   ]
  },
  {
   "cell_type": "markdown",
   "metadata": {},
   "source": [
    "Using the info method lets us see theh data types of fields, just like fields view for a table in ArcPro"
   ]
  },
  {
   "cell_type": "code",
   "execution_count": 11,
   "metadata": {},
   "outputs": [
    {
     "name": "stdout",
     "output_type": "stream",
     "text": [
      "<class 'pandas.core.frame.DataFrame'>\n",
      "RangeIndex: 1347 entries, 0 to 1346\n",
      "Data columns (total 7 columns):\n",
      " #   Column     Non-Null Count  Dtype   \n",
      "---  ------     --------------  -----   \n",
      " 0   OBJECTID   1347 non-null   Int64   \n",
      " 1   ID         1347 non-null   Int64   \n",
      " 2   CLASS      1347 non-null   Int32   \n",
      " 3   ACRES      1347 non-null   Float64 \n",
      " 4   AREA       1347 non-null   Float64 \n",
      " 5   PERIMETER  1347 non-null   Float64 \n",
      " 6   SHAPE      1347 non-null   geometry\n",
      "dtypes: Float64(3), Int32(1), Int64(2), geometry(1)\n",
      "memory usage: 76.4 KB\n"
     ]
    }
   ],
   "source": [
    "df.info()"
   ]
  },
  {
   "cell_type": "markdown",
   "metadata": {},
   "source": [
    "Are all rows in landcover unique (or to say another way, are there any duplicates?)"
   ]
  },
  {
   "cell_type": "code",
   "execution_count": 13,
   "metadata": {},
   "outputs": [
    {
     "data": {
      "text/plain": [
       "False"
      ]
     },
     "execution_count": 13,
     "metadata": {},
     "output_type": "execute_result"
    }
   ],
   "source": [
    "df[\"CLASS\"].is_unique      # False\n",
    "df['CLASS'].duplicated().any() # True"
   ]
  },
  {
   "cell_type": "markdown",
   "metadata": {},
   "source": [
    "How about in the vegetation type table?"
   ]
  },
  {
   "cell_type": "code",
   "execution_count": 22,
   "metadata": {},
   "outputs": [
    {
     "data": {
      "text/html": [
       "<div>\n",
       "<style scoped>\n",
       "    .dataframe tbody tr th:only-of-type {\n",
       "        vertical-align: middle;\n",
       "    }\n",
       "\n",
       "    .dataframe tbody tr th {\n",
       "        vertical-align: top;\n",
       "    }\n",
       "\n",
       "    .dataframe thead th {\n",
       "        text-align: right;\n",
       "    }\n",
       "</style>\n",
       "<table border=\"1\" class=\"dataframe\">\n",
       "  <thead>\n",
       "    <tr style=\"text-align: right;\">\n",
       "      <th></th>\n",
       "      <th>OBJECTID</th>\n",
       "      <th>CLASS</th>\n",
       "      <th>COV_CLASS</th>\n",
       "      <th>LANDCOVER</th>\n",
       "      <th>VEG_TYPE</th>\n",
       "    </tr>\n",
       "  </thead>\n",
       "  <tbody>\n",
       "    <tr>\n",
       "      <th>0</th>\n",
       "      <td>1</td>\n",
       "      <td>2</td>\n",
       "      <td>Cropland</td>\n",
       "      <td>CROPLAND/GRASSLAND</td>\n",
       "      <td>SORGHUM, SMALL GRAINS, BLUESTEM, WHEATGRASS</td>\n",
       "    </tr>\n",
       "    <tr>\n",
       "      <th>1</th>\n",
       "      <td>2</td>\n",
       "      <td>3</td>\n",
       "      <td>Cropland</td>\n",
       "      <td>CROPLAND</td>\n",
       "      <td>SPRING WHEAT</td>\n",
       "    </tr>\n",
       "    <tr>\n",
       "      <th>2</th>\n",
       "      <td>3</td>\n",
       "      <td>6</td>\n",
       "      <td>Cropland</td>\n",
       "      <td>CROPLAND</td>\n",
       "      <td>MIXED DRYLAND (SORGHUM, SMALL GRAINS)</td>\n",
       "    </tr>\n",
       "    <tr>\n",
       "      <th>3</th>\n",
       "      <td>4</td>\n",
       "      <td>8</td>\n",
       "      <td>Cropland</td>\n",
       "      <td>CROPLAND</td>\n",
       "      <td>MIXED CROPS (WHEAT WITH CORN, SUNFLOWERS)</td>\n",
       "    </tr>\n",
       "    <tr>\n",
       "      <th>4</th>\n",
       "      <td>5</td>\n",
       "      <td>10</td>\n",
       "      <td>Cropland</td>\n",
       "      <td>CROPLAND/WOODLAND</td>\n",
       "      <td>SMALL GRAINS, BIG SAGE, WHEATGRASS, PONDEROSA</td>\n",
       "    </tr>\n",
       "  </tbody>\n",
       "</table>\n",
       "</div>"
      ],
      "text/plain": [
       "   OBJECTID  ...                                        VEG_TYPE\n",
       "0         1  ...     SORGHUM, SMALL GRAINS, BLUESTEM, WHEATGRASS\n",
       "1         2  ...                                    SPRING WHEAT\n",
       "2         3  ...           MIXED DRYLAND (SORGHUM, SMALL GRAINS)\n",
       "3         4  ...       MIXED CROPS (WHEAT WITH CORN, SUNFLOWERS)\n",
       "4         5  ...   SMALL GRAINS, BIG SAGE, WHEATGRASS, PONDEROSA\n",
       "\n",
       "[5 rows x 5 columns]"
      ]
     },
     "execution_count": 22,
     "metadata": {},
     "output_type": "execute_result"
    }
   ],
   "source": [
    "veg = pandas.DataFrame.spatial.from_table(\"veg_type\")\n",
    "veg.head()"
   ]
  },
  {
   "cell_type": "code",
   "execution_count": 24,
   "metadata": {},
   "outputs": [
    {
     "data": {
      "text/plain": [
       "False"
      ]
     },
     "execution_count": 24,
     "metadata": {},
     "output_type": "execute_result"
    }
   ],
   "source": [
    "# not veg[\"CLASS\"].is_unique      # False - it is unique\n",
    "veg['CLASS'].duplicated().any() # False - it is not duplicated - it's unique"
   ]
  },
  {
   "cell_type": "code",
   "execution_count": null,
   "metadata": {},
   "outputs": [],
   "source": []
  }
 ],
 "metadata": {
  "kernelspec": {
   "display_name": "ArcGISPro",
   "language": "Python",
   "name": "python3"
  },
  "language_info": {
   "file_extension": ".py",
   "name": "python",
   "version": "3"
  }
 },
 "nbformat": 4,
 "nbformat_minor": 2
}
